{
 "metadata": {
  "name": "",
  "signature": "sha256:6824c435ffd88c4f95436af394eb765402a817bb9a8485665d62a97af064109c"
 },
 "nbformat": 3,
 "nbformat_minor": 0,
 "worksheets": [
  {
   "cells": [
    {
     "cell_type": "code",
     "collapsed": true,
     "input": [
      "! pwd"
     ],
     "language": "python",
     "metadata": {},
     "outputs": [
      {
       "output_type": "stream",
       "stream": "stdout",
       "text": [
        "/work/leapmind/sandbox\r\n"
       ]
      }
     ],
     "prompt_number": 1
    },
    {
     "cell_type": "code",
     "collapsed": false,
     "input": [
      "import numpy as np\n",
      "X = 50\n",
      "Y = 50\n",
      "canvas = np.zeros((Y, X))\n"
     ],
     "language": "python",
     "metadata": {},
     "outputs": [],
     "prompt_number": 1
    },
    {
     "cell_type": "code",
     "collapsed": false,
     "input": [
      "canvas[Y//2-5:Y//2+5, :] = 1.0\n",
      "canvas[:, X//2-5:X//2+5] = 1.0\n",
      "\n",
      "import matplotlib.pyplot as plt\n",
      "plt.imshow(canvas)\n",
      "plt.show()"
     ],
     "language": "python",
     "metadata": {},
     "outputs": [],
     "prompt_number": 2
    },
    {
     "cell_type": "code",
     "collapsed": false,
     "input": [
      "from scipy.ndimage import convolve"
     ],
     "language": "python",
     "metadata": {},
     "outputs": [],
     "prompt_number": 3
    },
    {
     "cell_type": "code",
     "collapsed": false,
     "input": [
      "%matplotlib inline\n",
      "walker = np.zeros(canvas.shape)\n",
      "distance = np.zeros(canvas.shape)\n",
      "distance[:,:] = -1\n",
      "\n",
      "walker[0, X//2] = 1.0\n",
      "filter_ = np.array([[0,1,0],[1,0,1],[0,1,0]])\n",
      "\n",
      "for i in range(100):\n",
      "    #plt.imshow((distance == -1) * (walker > 0))\n",
      "    #plt.show()\n",
      "    distance[(distance == -1) * (walker > 0)] = i \n",
      "    walker = convolve(walker, filter_)\n",
      "    walker = walker * canvas\n",
      "    \n",
      "plt.imshow(distance, interpolation=\"nearest\", cmap='gray')\n",
      "plt.show()\n",
      "#for i in range(1000):\n",
      "    "
     ],
     "language": "python",
     "metadata": {},
     "outputs": [
      {
       "metadata": {},
       "output_type": "display_data",
       "png": "[encoded data removed]",
       "text": [
        "<matplotlib.figure.Figure at 0x7fdd3066c9b0>"
       ]
      }
     ],
     "prompt_number": 7
    },
    {
     "cell_type": "code",
     "collapsed": false,
     "input": [],
     "language": "python",
     "metadata": {},
     "outputs": []
    }
   ],
   "metadata": {}
  }
 ]
}