{
 "cells": [
  {
   "cell_type": "code",
   "execution_count": null,
   "metadata": {
    "collapsed": false
   },
   "outputs": [],
   "source": [
    "%pdb on"
   ]
  },
  {
   "cell_type": "code",
   "execution_count": null,
   "metadata": {
    "collapsed": false
   },
   "outputs": [],
   "source": [
    "import pandas as pd\n",
    "import numpy as np\n",
    "\n",
    "def main():\n",
    "    N=5\n",
    "    df0 = pd.DataFrame(range(N))\n",
    "    np.sqrt(((df0 - df0.mean())**2).sum()/(N-1)) \n",
    "    df0['str']=df0[[0]].applymap(str)\n",
    "    x = y\n",
    "    df0"
   ]
  },
  {
   "cell_type": "code",
   "execution_count": null,
   "metadata": {
    "collapsed": false
   },
   "outputs": [],
   "source": [
    "%debug(main())"
   ]
  },
  {
   "cell_type": "code",
   "execution_count": null,
   "metadata": {
    "collapsed": false
   },
   "outputs": [],
   "source": [
    "import pandas as pd\n",
    "import numpy as np\n",
    "N=5\n",
    "df0 = pd.DataFrame(range(N))\n",
    "np.sqrt(((df0 - df0.mean())**2).sum()/(N-1)) \n",
    "df0['str']=df0[[0]].applymap(str)\n",
    "df0\n",
    "x = y\n",
    "df0.std()\n",
    "df0[0].map(str).map(str)"
   ]
  },
  {
   "cell_type": "code",
   "execution_count": null,
   "metadata": {
    "collapsed": true
   },
   "outputs": [],
   "source": [
    "import pandas as pd\n",
    "df0 = pd.DataFrame([[1,2,'x'],[3,4,'z'],[3,4,'z']]).set_index([[3,4,5]])\n",
    "g = pd.groupby(df0, by=0)\n",
    "g.get_group(1)"
   ]
  },
  {
   "cell_type": "code",
   "execution_count": null,
   "metadata": {
    "collapsed": false
   },
   "outputs": [],
   "source": [
    "%pdb on"
   ]
  },
  {
   "cell_type": "code",
   "execution_count": null,
   "metadata": {
    "collapsed": false
   },
   "outputs": [],
   "source": [
    "import os\n",
    "def join():\n",
    "    df0[['str']].applymap(lambda x: os.path.join('/work/',x))"
   ]
  },
  {
   "cell_type": "markdown",
   "metadata": {},
   "source": [
    "##  文字列操作"
   ]
  },
  {
   "cell_type": "code",
   "execution_count": 2,
   "metadata": {
    "collapsed": false
   },
   "outputs": [
    {
     "name": "stdout",
     "output_type": "stream",
     "text": [
      "source:\n",
      "my name is %NAME(K.Ogawa)%\n",
      "I live in %PLACE(Yokohama)%\n",
      "%%%%\n",
      "replaced:\n",
      "my name is T.Sato\n",
      "I live in Yokohama\n",
      "%%%%\n",
      "answer:\n",
      "my name is T.Sato\n",
      "I live in Yokohama\n",
      "%%%%\n",
      "\n",
      "TEST PASSED\n"
     ]
    }
   ],
   "source": [
    "import re\n",
    "def get_default(S):\n",
    "    try:\n",
    "        default = re.search('\\(.*\\)', re.search('%.*%',S).group()).group().replace('(','').replace(')','')\n",
    "    except:\n",
    "        default = re.search('%.*%',S).group()\n",
    "    return default\n",
    "\n",
    "def get_tag(S):\n",
    "    try:\n",
    "        tag = re.sub('\\(.*\\)','',re.search('%.*%',S).group()).replace('%','')\n",
    "    except:\n",
    "        tag = None\n",
    "    return tag\n",
    "\n",
    "\n",
    "def replace_string(srcstr, replacelist):\n",
    "    dststr=''\n",
    "    for x in srcstr.splitlines():\n",
    "        tag = get_tag(x)\n",
    "        if tag is not None:\n",
    "            if tag in replacelist.keys():\n",
    "                dststr += re.sub('%.*%',replacelist[tag],x) + '\\n'\n",
    "            else:\n",
    "                dststr += re.sub('%.*%',get_default(x),x) + '\\n'\n",
    "        else:\n",
    "            dststr += x + '\\n'\n",
    "    return dststr.rstrip('\\n')\n",
    "\n",
    "def test():\n",
    "    replacelist={'NAME':'T.Sato'}\n",
    "    S='my name is %NAME(K.Ogawa)%\\n'\n",
    "    S+='I live in %PLACE(Yokohama)%\\n'\n",
    "    S+='%%%%'\n",
    "    replaced = replace_string(S, replacelist)\n",
    "    answer  ='my name is T.Sato\\n'\n",
    "    answer +='I live in Yokohama\\n'\n",
    "    answer +='%%%%'\n",
    "    print 'source:'\n",
    "    print S\n",
    "    print 'replaced:'\n",
    "    print replaced\n",
    "    print 'answer:'\n",
    "    print answer\n",
    "    print \n",
    "    if answer == replaced:\n",
    "        return 'TEST PASSED'\n",
    "    else:\n",
    "        return 'TEST FAILED'\n",
    "\n",
    "print test()"
   ]
  },
  {
   "cell_type": "markdown",
   "metadata": {},
   "source": [
    "## debugの使い方"
   ]
  },
  {
   "cell_type": "code",
   "execution_count": null,
   "metadata": {
    "collapsed": false
   },
   "outputs": [],
   "source": [
    "def f(a, b):\n",
    "    a += 1\n",
    "    b += 2\n",
    "    return a + b\n",
    "\n",
    "def g(a, b, c):\n",
    "    a = f(a,b)\n",
    "    b = f(b,c)\n",
    "    return a + b"
   ]
  },
  {
   "cell_type": "code",
   "execution_count": null,
   "metadata": {
    "collapsed": false
   },
   "outputs": [],
   "source": [
    "%debug(g(1,2,3))\n",
    "# s: proceed one step (enter funciton)\n",
    "# n: proceed one step (don't enter function)\n",
    "# a: print all local variable\n",
    "# c: continue upto breakpoint"
   ]
  },
  {
   "cell_type": "markdown",
   "metadata": {},
   "source": [
    "http://pages.physics.cornell.edu/~myers/teaching/ComputationalMethods/python/ipython.html\n",
    "\n",
    "http://qiita.com/ynakayama/items/c51c2b6d6a3818bdb63f"
   ]
  }
 ],
 "metadata": {
  "kernelspec": {
   "display_name": "Python 2",
   "language": "python",
   "name": "python2"
  },
  "language_info": {
   "codemirror_mode": {
    "name": "ipython",
    "version": 2
   },
   "file_extension": ".py",
   "mimetype": "text/x-python",
   "name": "python",
   "nbconvert_exporter": "python",
   "pygments_lexer": "ipython2",
   "version": "2.7.10"
  }
 },
 "nbformat": 4,
 "nbformat_minor": 0
}
