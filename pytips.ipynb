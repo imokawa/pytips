{
 "cells": [
  {
   "cell_type": "markdown",
   "metadata": {
    "collapsed": true
   },
   "source": [
    "## Numpy"
   ]
  },
  {
   "cell_type": "code",
   "execution_count": 1,
   "metadata": {
    "collapsed": false
   },
   "outputs": [
    {
     "data": {
      "text/plain": [
       "array([[-10, -10],\n",
       "       [-10,  -9],\n",
       "       [-10,  -8],\n",
       "       [-10,  -7],\n",
       "       [-10,  -6],\n",
       "       [-10,  -5],\n",
       "       [-10,  -4],\n",
       "       [-10,  -3],\n",
       "       [-10,  -2],\n",
       "       [-10,  -1],\n",
       "       [-10,   0],\n",
       "       [-10,   1],\n",
       "       [-10,   2],\n",
       "       [-10,   3],\n",
       "       [-10,   4],\n",
       "       [-10,   5],\n",
       "       [-10,   6],\n",
       "       [-10,   7],\n",
       "       [-10,   8],\n",
       "       [-10,   9],\n",
       "       [ -9, -10],\n",
       "       [ -9,  -9],\n",
       "       [ -9,  -8],\n",
       "       [ -9,  -7],\n",
       "       [ -9,  -6],\n",
       "       [ -9,  -5],\n",
       "       [ -9,  -4],\n",
       "       [ -9,  -3],\n",
       "       [ -9,  -2],\n",
       "       [ -9,  -1],\n",
       "       [ -9,   0],\n",
       "       [ -9,   1],\n",
       "       [ -9,   2],\n",
       "       [ -9,   3],\n",
       "       [ -9,   4],\n",
       "       [ -9,   5],\n",
       "       [ -9,   6],\n",
       "       [ -9,   7],\n",
       "       [ -9,   8],\n",
       "       [ -9,   9],\n",
       "       [ -8, -10],\n",
       "       [ -8,  -9],\n",
       "       [ -8,  -8],\n",
       "       [ -8,  -7],\n",
       "       [ -8,  -6],\n",
       "       [ -8,  -5],\n",
       "       [ -8,  -4],\n",
       "       [ -8,  -3],\n",
       "       [ -8,  -2],\n",
       "       [ -8,  -1],\n",
       "       [ -8,   0],\n",
       "       [ -8,   1],\n",
       "       [ -8,   2],\n",
       "       [ -8,   3],\n",
       "       [ -8,   4],\n",
       "       [ -8,   5],\n",
       "       [ -8,   6],\n",
       "       [ -8,   7],\n",
       "       [ -8,   8],\n",
       "       [ -8,   9],\n",
       "       [ -7, -10],\n",
       "       [ -7,  -9],\n",
       "       [ -7,  -8],\n",
       "       [ -7,  -7],\n",
       "       [ -7,  -6],\n",
       "       [ -7,  -5],\n",
       "       [ -7,  -4],\n",
       "       [ -7,  -3],\n",
       "       [ -7,  -2],\n",
       "       [ -7,  -1],\n",
       "       [ -7,   0],\n",
       "       [ -7,   1],\n",
       "       [ -7,   2],\n",
       "       [ -7,   3],\n",
       "       [ -7,   4],\n",
       "       [ -7,   5],\n",
       "       [ -7,   6],\n",
       "       [ -7,   7],\n",
       "       [ -7,   8],\n",
       "       [ -7,   9],\n",
       "       [ -6, -10],\n",
       "       [ -6,  -9],\n",
       "       [ -6,  -8],\n",
       "       [ -6,  -7],\n",
       "       [ -6,  -6],\n",
       "       [ -6,  -5],\n",
       "       [ -6,  -4],\n",
       "       [ -6,  -3],\n",
       "       [ -6,  -2],\n",
       "       [ -6,  -1],\n",
       "       [ -6,   0],\n",
       "       [ -6,   1],\n",
       "       [ -6,   2],\n",
       "       [ -6,   3],\n",
       "       [ -6,   4],\n",
       "       [ -6,   5],\n",
       "       [ -6,   6],\n",
       "       [ -6,   7],\n",
       "       [ -6,   8],\n",
       "       [ -6,   9],\n",
       "       [ -5, -10],\n",
       "       [ -5,  -9],\n",
       "       [ -5,  -8],\n",
       "       [ -5,  -7],\n",
       "       [ -5,  -6],\n",
       "       [ -5,  -5],\n",
       "       [ -5,  -4],\n",
       "       [ -5,  -3],\n",
       "       [ -5,  -2],\n",
       "       [ -5,  -1],\n",
       "       [ -5,   0],\n",
       "       [ -5,   1],\n",
       "       [ -5,   2],\n",
       "       [ -5,   3],\n",
       "       [ -5,   4],\n",
       "       [ -5,   5],\n",
       "       [ -5,   6],\n",
       "       [ -5,   7],\n",
       "       [ -5,   8],\n",
       "       [ -5,   9],\n",
       "       [ -4, -10],\n",
       "       [ -4,  -9],\n",
       "       [ -4,  -8],\n",
       "       [ -4,  -7],\n",
       "       [ -4,  -6],\n",
       "       [ -4,  -5],\n",
       "       [ -4,  -4],\n",
       "       [ -4,  -3],\n",
       "       [ -4,  -2],\n",
       "       [ -4,  -1],\n",
       "       [ -4,   0],\n",
       "       [ -4,   1],\n",
       "       [ -4,   2],\n",
       "       [ -4,   3],\n",
       "       [ -4,   4],\n",
       "       [ -4,   5],\n",
       "       [ -4,   6],\n",
       "       [ -4,   7],\n",
       "       [ -4,   8],\n",
       "       [ -4,   9],\n",
       "       [ -3, -10],\n",
       "       [ -3,  -9],\n",
       "       [ -3,  -8],\n",
       "       [ -3,  -7],\n",
       "       [ -3,  -6],\n",
       "       [ -3,  -5],\n",
       "       [ -3,  -4],\n",
       "       [ -3,  -3],\n",
       "       [ -3,  -2],\n",
       "       [ -3,  -1],\n",
       "       [ -3,   0],\n",
       "       [ -3,   1],\n",
       "       [ -3,   2],\n",
       "       [ -3,   3],\n",
       "       [ -3,   4],\n",
       "       [ -3,   5],\n",
       "       [ -3,   6],\n",
       "       [ -3,   7],\n",
       "       [ -3,   8],\n",
       "       [ -3,   9],\n",
       "       [ -2, -10],\n",
       "       [ -2,  -9],\n",
       "       [ -2,  -8],\n",
       "       [ -2,  -7],\n",
       "       [ -2,  -6],\n",
       "       [ -2,  -5],\n",
       "       [ -2,  -4],\n",
       "       [ -2,  -3],\n",
       "       [ -2,  -2],\n",
       "       [ -2,  -1],\n",
       "       [ -2,   0],\n",
       "       [ -2,   1],\n",
       "       [ -2,   2],\n",
       "       [ -2,   3],\n",
       "       [ -2,   4],\n",
       "       [ -2,   5],\n",
       "       [ -2,   6],\n",
       "       [ -2,   7],\n",
       "       [ -2,   8],\n",
       "       [ -2,   9],\n",
       "       [ -1, -10],\n",
       "       [ -1,  -9],\n",
       "       [ -1,  -8],\n",
       "       [ -1,  -7],\n",
       "       [ -1,  -6],\n",
       "       [ -1,  -5],\n",
       "       [ -1,  -4],\n",
       "       [ -1,  -3],\n",
       "       [ -1,  -2],\n",
       "       [ -1,  -1],\n",
       "       [ -1,   0],\n",
       "       [ -1,   1],\n",
       "       [ -1,   2],\n",
       "       [ -1,   3],\n",
       "       [ -1,   4],\n",
       "       [ -1,   5],\n",
       "       [ -1,   6],\n",
       "       [ -1,   7],\n",
       "       [ -1,   8],\n",
       "       [ -1,   9],\n",
       "       [  0, -10],\n",
       "       [  0,  -9],\n",
       "       [  0,  -8],\n",
       "       [  0,  -7],\n",
       "       [  0,  -6],\n",
       "       [  0,  -5],\n",
       "       [  0,  -4],\n",
       "       [  0,  -3],\n",
       "       [  0,  -2],\n",
       "       [  0,  -1],\n",
       "       [  0,   0],\n",
       "       [  0,   1],\n",
       "       [  0,   2],\n",
       "       [  0,   3],\n",
       "       [  0,   4],\n",
       "       [  0,   5],\n",
       "       [  0,   6],\n",
       "       [  0,   7],\n",
       "       [  0,   8],\n",
       "       [  0,   9],\n",
       "       [  1, -10],\n",
       "       [  1,  -9],\n",
       "       [  1,  -8],\n",
       "       [  1,  -7],\n",
       "       [  1,  -6],\n",
       "       [  1,  -5],\n",
       "       [  1,  -4],\n",
       "       [  1,  -3],\n",
       "       [  1,  -2],\n",
       "       [  1,  -1],\n",
       "       [  1,   0],\n",
       "       [  1,   1],\n",
       "       [  1,   2],\n",
       "       [  1,   3],\n",
       "       [  1,   4],\n",
       "       [  1,   5],\n",
       "       [  1,   6],\n",
       "       [  1,   7],\n",
       "       [  1,   8],\n",
       "       [  1,   9],\n",
       "       [  2, -10],\n",
       "       [  2,  -9],\n",
       "       [  2,  -8],\n",
       "       [  2,  -7],\n",
       "       [  2,  -6],\n",
       "       [  2,  -5],\n",
       "       [  2,  -4],\n",
       "       [  2,  -3],\n",
       "       [  2,  -2],\n",
       "       [  2,  -1],\n",
       "       [  2,   0],\n",
       "       [  2,   1],\n",
       "       [  2,   2],\n",
       "       [  2,   3],\n",
       "       [  2,   4],\n",
       "       [  2,   5],\n",
       "       [  2,   6],\n",
       "       [  2,   7],\n",
       "       [  2,   8],\n",
       "       [  2,   9],\n",
       "       [  3, -10],\n",
       "       [  3,  -9],\n",
       "       [  3,  -8],\n",
       "       [  3,  -7],\n",
       "       [  3,  -6],\n",
       "       [  3,  -5],\n",
       "       [  3,  -4],\n",
       "       [  3,  -3],\n",
       "       [  3,  -2],\n",
       "       [  3,  -1],\n",
       "       [  3,   0],\n",
       "       [  3,   1],\n",
       "       [  3,   2],\n",
       "       [  3,   3],\n",
       "       [  3,   4],\n",
       "       [  3,   5],\n",
       "       [  3,   6],\n",
       "       [  3,   7],\n",
       "       [  3,   8],\n",
       "       [  3,   9],\n",
       "       [  4, -10],\n",
       "       [  4,  -9],\n",
       "       [  4,  -8],\n",
       "       [  4,  -7],\n",
       "       [  4,  -6],\n",
       "       [  4,  -5],\n",
       "       [  4,  -4],\n",
       "       [  4,  -3],\n",
       "       [  4,  -2],\n",
       "       [  4,  -1],\n",
       "       [  4,   0],\n",
       "       [  4,   1],\n",
       "       [  4,   2],\n",
       "       [  4,   3],\n",
       "       [  4,   4],\n",
       "       [  4,   5],\n",
       "       [  4,   6],\n",
       "       [  4,   7],\n",
       "       [  4,   8],\n",
       "       [  4,   9],\n",
       "       [  5, -10],\n",
       "       [  5,  -9],\n",
       "       [  5,  -8],\n",
       "       [  5,  -7],\n",
       "       [  5,  -6],\n",
       "       [  5,  -5],\n",
       "       [  5,  -4],\n",
       "       [  5,  -3],\n",
       "       [  5,  -2],\n",
       "       [  5,  -1],\n",
       "       [  5,   0],\n",
       "       [  5,   1],\n",
       "       [  5,   2],\n",
       "       [  5,   3],\n",
       "       [  5,   4],\n",
       "       [  5,   5],\n",
       "       [  5,   6],\n",
       "       [  5,   7],\n",
       "       [  5,   8],\n",
       "       [  5,   9],\n",
       "       [  6, -10],\n",
       "       [  6,  -9],\n",
       "       [  6,  -8],\n",
       "       [  6,  -7],\n",
       "       [  6,  -6],\n",
       "       [  6,  -5],\n",
       "       [  6,  -4],\n",
       "       [  6,  -3],\n",
       "       [  6,  -2],\n",
       "       [  6,  -1],\n",
       "       [  6,   0],\n",
       "       [  6,   1],\n",
       "       [  6,   2],\n",
       "       [  6,   3],\n",
       "       [  6,   4],\n",
       "       [  6,   5],\n",
       "       [  6,   6],\n",
       "       [  6,   7],\n",
       "       [  6,   8],\n",
       "       [  6,   9],\n",
       "       [  7, -10],\n",
       "       [  7,  -9],\n",
       "       [  7,  -8],\n",
       "       [  7,  -7],\n",
       "       [  7,  -6],\n",
       "       [  7,  -5],\n",
       "       [  7,  -4],\n",
       "       [  7,  -3],\n",
       "       [  7,  -2],\n",
       "       [  7,  -1],\n",
       "       [  7,   0],\n",
       "       [  7,   1],\n",
       "       [  7,   2],\n",
       "       [  7,   3],\n",
       "       [  7,   4],\n",
       "       [  7,   5],\n",
       "       [  7,   6],\n",
       "       [  7,   7],\n",
       "       [  7,   8],\n",
       "       [  7,   9],\n",
       "       [  8, -10],\n",
       "       [  8,  -9],\n",
       "       [  8,  -8],\n",
       "       [  8,  -7],\n",
       "       [  8,  -6],\n",
       "       [  8,  -5],\n",
       "       [  8,  -4],\n",
       "       [  8,  -3],\n",
       "       [  8,  -2],\n",
       "       [  8,  -1],\n",
       "       [  8,   0],\n",
       "       [  8,   1],\n",
       "       [  8,   2],\n",
       "       [  8,   3],\n",
       "       [  8,   4],\n",
       "       [  8,   5],\n",
       "       [  8,   6],\n",
       "       [  8,   7],\n",
       "       [  8,   8],\n",
       "       [  8,   9],\n",
       "       [  9, -10],\n",
       "       [  9,  -9],\n",
       "       [  9,  -8],\n",
       "       [  9,  -7],\n",
       "       [  9,  -6],\n",
       "       [  9,  -5],\n",
       "       [  9,  -4],\n",
       "       [  9,  -3],\n",
       "       [  9,  -2],\n",
       "       [  9,  -1],\n",
       "       [  9,   0],\n",
       "       [  9,   1],\n",
       "       [  9,   2],\n",
       "       [  9,   3],\n",
       "       [  9,   4],\n",
       "       [  9,   5],\n",
       "       [  9,   6],\n",
       "       [  9,   7],\n",
       "       [  9,   8],\n",
       "       [  9,   9]])"
      ]
     },
     "execution_count": 1,
     "metadata": {},
     "output_type": "execute_result"
    }
   ],
   "source": [
    "from sklearn.utils.extmath import cartesian\n",
    "import numpy as np\n",
    "searchrange = 10\n",
    "x = np.arange(-searchrange, searchrange)\n",
    "y = np.arange(-searchrange, searchrange)\n",
    "region = cartesian((x, y))   \n",
    "region"
   ]
  },
  {
   "cell_type": "code",
   "execution_count": 92,
   "metadata": {
    "collapsed": false
   },
   "outputs": [
    {
     "name": "stdout",
     "output_type": "stream",
     "text": [
      "(4, 4, 2)\n"
     ]
    },
    {
     "data": {
      "text/plain": [
       "array([[ 0.]])"
      ]
     },
     "execution_count": 92,
     "metadata": {},
     "output_type": "execute_result"
    }
   ],
   "source": [
    "# import numpy as np\n",
    "lx = np.arange(-10,10)\n",
    "lx = lx[(lx >= 3) & (lx < 7)]\n",
    "l = np.asarray([[(x,y) for x in lx] for y in lx])\n",
    "print l.shape\n",
    "c = (1./12.)*(1./12.)\n",
    "f = np.apply_along_axis(lambda x: np.exp(-c*np.linalg.norm(x)**2), 2, l)\n",
    "\n",
    "d = np.zeros((10,10))\n",
    "#d[lx,lx] += f\n",
    "d.round(2)\n",
    "\n",
    "d[1:2,1:2]"
   ]
  },
  {
   "cell_type": "code",
   "execution_count": null,
   "metadata": {
    "collapsed": false
   },
   "outputs": [],
   "source": [
    "import numpy as np\n",
    "np.random.seed(123)\n",
    "r = np.random.uniform(-1,1,(10,2))\n",
    "s = np.random.uniform(-1,1,(10,2))\n",
    "r = np.ones((10,2))\n",
    "r = np.ones((10,2))\n",
    "print r.shape\n",
    "print r\n",
    "print np.sign(r)\n",
    "print np.sign(s)\n",
    "print (np.sign(r) == np.sign(s)).all(axis=1).mean()\n",
    "np.linalg.norm(r)**2 / r.size "
   ]
  },
  {
   "cell_type": "code",
   "execution_count": null,
   "metadata": {
    "collapsed": false
   },
   "outputs": [],
   "source": [
    "import numpy as np\n",
    "x = np.exp(np.random.uniform(np.log(8),np.log(512),(100,))).astype(np.int)\n",
    "x.sort()\n",
    "x.tolist()"
   ]
  },
  {
   "cell_type": "code",
   "execution_count": null,
   "metadata": {
    "collapsed": false
   },
   "outputs": [],
   "source": [
    "import numpy as np\n",
    "np.random.seed(123)\n",
    "x = np.random.uniform(0,1,(10,2))\n",
    "c = np.asarray([np.exp(-0.5*(a*a+b*b)) for a,b in x])\n",
    "print x\n",
    "print c"
   ]
  },
  {
   "cell_type": "code",
   "execution_count": 31,
   "metadata": {
    "collapsed": false
   },
   "outputs": [
    {
     "data": {
      "text/plain": [
       "array([-20, -19, -18, -17, -16, -15, -14, -13, -12, -11, -10,  -9,  -8,\n",
       "        -7,  -6,  -5,  -4,  -3,  -2,  -1, -19, -18, -17, -16, -15, -14,\n",
       "       -13, -12, -11, -10,  -9,  -8,  -7,  -6,  -5,  -4,  -3,  -2,  -1,\n",
       "         0, -18, -17, -16, -15, -14, -13, -12, -11, -10,  -9,  -8,  -7,\n",
       "        -6,  -5,  -4,  -3,  -2,  -1,   0,   1, -17, -16, -15, -14, -13,\n",
       "       -12, -11, -10,  -9,  -8,  -7,  -6,  -5,  -4,  -3,  -2,  -1,   0,\n",
       "         1,   2, -16, -15, -14, -13, -12, -11, -10,  -9,  -8,  -7,  -6,\n",
       "        -5,  -4,  -3,  -2,  -1,   0,   1,   2,   3, -15, -14, -13, -12,\n",
       "       -11, -10,  -9,  -8,  -7,  -6,  -5,  -4,  -3,  -2,  -1,   0,   1,\n",
       "         2,   3,   4, -14, -13, -12, -11, -10,  -9,  -8,  -7,  -6,  -5,\n",
       "        -4,  -3,  -2,  -1,   0,   1,   2,   3,   4,   5, -13, -12, -11,\n",
       "       -10,  -9,  -8,  -7,  -6,  -5,  -4,  -3,  -2,  -1,   0,   1,   2,\n",
       "         3,   4,   5,   6, -12, -11, -10,  -9,  -8,  -7,  -6,  -5,  -4,\n",
       "        -3,  -2,  -1,   0,   1,   2,   3,   4,   5,   6,   7, -11, -10,\n",
       "        -9,  -8,  -7,  -6,  -5,  -4,  -3,  -2,  -1,   0,   1,   2,   3,\n",
       "         4,   5,   6,   7,   8, -10,  -9,  -8,  -7,  -6,  -5,  -4,  -3,\n",
       "        -2,  -1,   0,   1,   2,   3,   4,   5,   6,   7,   8,   9,  -9,\n",
       "        -8,  -7,  -6,  -5,  -4,  -3,  -2,  -1,   0,   1,   2,   3,   4,\n",
       "         5,   6,   7,   8,   9,  10,  -8,  -7,  -6,  -5,  -4,  -3,  -2,\n",
       "        -1,   0,   1,   2,   3,   4,   5,   6,   7,   8,   9,  10,  11,\n",
       "        -7,  -6,  -5,  -4,  -3,  -2,  -1,   0,   1,   2,   3,   4,   5,\n",
       "         6,   7,   8,   9,  10,  11,  12,  -6,  -5,  -4,  -3,  -2,  -1,\n",
       "         0,   1,   2,   3,   4,   5,   6,   7,   8,   9,  10,  11,  12,\n",
       "        13,  -5,  -4,  -3,  -2,  -1,   0,   1,   2,   3,   4,   5,   6,\n",
       "         7,   8,   9,  10,  11,  12,  13,  14,  -4,  -3,  -2,  -1,   0,\n",
       "         1,   2,   3,   4,   5,   6,   7,   8,   9,  10,  11,  12,  13,\n",
       "        14,  15,  -3,  -2,  -1,   0,   1,   2,   3,   4,   5,   6,   7,\n",
       "         8,   9,  10,  11,  12,  13,  14,  15,  16,  -2,  -1,   0,   1,\n",
       "         2,   3,   4,   5,   6,   7,   8,   9,  10,  11,  12,  13,  14,\n",
       "        15,  16,  17,  -1,   0,   1,   2,   3,   4,   5,   6,   7,   8,\n",
       "         9,  10,  11,  12,  13,  14,  15,  16,  17,  18])"
      ]
     },
     "execution_count": 31,
     "metadata": {},
     "output_type": "execute_result"
    }
   ],
   "source": [
    "import numpy as np\n",
    "from sklearn.utils.extmath import cartesian\n",
    "x = np.arange(-10,10)\n",
    "y = np.arange(-10,10)\n",
    "x, y\n",
    "np.dstack?\n",
    "region = cartesian((x,y))\n",
    "np.apply_along_axis(lambda x: x[0] + x[1], 1, region)"
   ]
  },
  {
   "cell_type": "markdown",
   "metadata": {},
   "source": [
    "## Decoretor "
   ]
  },
  {
   "cell_type": "code",
   "execution_count": null,
   "metadata": {
    "collapsed": false
   },
   "outputs": [],
   "source": [
    "def deco(func):\n",
    "    def show_args(a, b):\n",
    "        print a , b\n",
    "        return func(a, b)\n",
    "    return show_args\n",
    "\n",
    "\n",
    "@deco\n",
    "def prod(x, y):\n",
    "    return x * y\n",
    "\n",
    "\n",
    "print prod(2, 3)"
   ]
  },
  {
   "cell_type": "markdown",
   "metadata": {},
   "source": [
    "## Eigen"
   ]
  },
  {
   "cell_type": "code",
   "execution_count": null,
   "metadata": {
    "collapsed": false
   },
   "outputs": [],
   "source": [
    "import numpy as np\n",
    "A = np.array([[0, 1./6, 0], [1, 1./3, 0.5], [0, 0.5, 0.5]])\n",
    "l,v= np.linalg.eig(A)\n",
    "#np.dot(v[2])/v[2]\n",
    "#v[2]/v[2][0]\n",
    "np.dot(A,v[:,2])/v[:,2]\n",
    "v[:,2]/v[:,2][0]"
   ]
  },
  {
   "cell_type": "code",
   "execution_count": null,
   "metadata": {
    "collapsed": false
   },
   "outputs": [],
   "source": [
    "import numpy as np\n",
    "ratio = 0.1\n",
    "l = []\n",
    "for i in range(10000):\n",
    "    x = np.random.choice([0, 1], p=[1.-ratio, ratio])\n",
    "    l.append(x)\n",
    "print np.asarray(l).sum()"
   ]
  },
  {
   "cell_type": "code",
   "execution_count": null,
   "metadata": {
    "collapsed": false
   },
   "outputs": [],
   "source": [
    "%pdb on"
   ]
  },
  {
   "cell_type": "code",
   "execution_count": null,
   "metadata": {
    "collapsed": false
   },
   "outputs": [],
   "source": [
    "import pandas as pd\n",
    "import numpy as np\n",
    "\n",
    "def main():\n",
    "    N=5\n",
    "    df0 = pd.DataFrame(range(N))\n",
    "    np.sqrt(((df0 - df0.mean())**2).sum()/(N-1)) \n",
    "    df0['str']=df0[[0]].applymap(str)\n",
    "    x = y\n",
    "    df0"
   ]
  },
  {
   "cell_type": "code",
   "execution_count": null,
   "metadata": {
    "collapsed": false
   },
   "outputs": [],
   "source": [
    "%debug(main())"
   ]
  },
  {
   "cell_type": "markdown",
   "metadata": {},
   "source": [
    "## Pandas"
   ]
  },
  {
   "cell_type": "code",
   "execution_count": 1,
   "metadata": {
    "collapsed": false
   },
   "outputs": [
    {
     "ename": "NameError",
     "evalue": "name 'y' is not defined",
     "output_type": "error",
     "traceback": [
      "\u001b[1;31m---------------------------------------------------------------------------\u001b[0m",
      "\u001b[1;31mNameError\u001b[0m                                 Traceback (most recent call last)",
      "\u001b[1;32m<ipython-input-1-a34d3b56716a>\u001b[0m in \u001b[0;36m<module>\u001b[1;34m()\u001b[0m\n\u001b[0;32m      6\u001b[0m \u001b[0mdf0\u001b[0m\u001b[1;33m[\u001b[0m\u001b[1;34m'str'\u001b[0m\u001b[1;33m]\u001b[0m\u001b[1;33m=\u001b[0m\u001b[0mdf0\u001b[0m\u001b[1;33m[\u001b[0m\u001b[1;33m[\u001b[0m\u001b[1;36m0\u001b[0m\u001b[1;33m]\u001b[0m\u001b[1;33m]\u001b[0m\u001b[1;33m.\u001b[0m\u001b[0mapplymap\u001b[0m\u001b[1;33m(\u001b[0m\u001b[0mstr\u001b[0m\u001b[1;33m)\u001b[0m\u001b[1;33m\u001b[0m\u001b[0m\n\u001b[0;32m      7\u001b[0m \u001b[0mdf0\u001b[0m\u001b[1;33m\u001b[0m\u001b[0m\n\u001b[1;32m----> 8\u001b[1;33m \u001b[0mx\u001b[0m \u001b[1;33m=\u001b[0m \u001b[0my\u001b[0m\u001b[1;33m\u001b[0m\u001b[0m\n\u001b[0m\u001b[0;32m      9\u001b[0m \u001b[0mdf0\u001b[0m\u001b[1;33m.\u001b[0m\u001b[0mstd\u001b[0m\u001b[1;33m(\u001b[0m\u001b[1;33m)\u001b[0m\u001b[1;33m\u001b[0m\u001b[0m\n\u001b[0;32m     10\u001b[0m \u001b[0mdf0\u001b[0m\u001b[1;33m[\u001b[0m\u001b[1;36m0\u001b[0m\u001b[1;33m]\u001b[0m\u001b[1;33m.\u001b[0m\u001b[0mmap\u001b[0m\u001b[1;33m(\u001b[0m\u001b[0mstr\u001b[0m\u001b[1;33m)\u001b[0m\u001b[1;33m.\u001b[0m\u001b[0mmap\u001b[0m\u001b[1;33m(\u001b[0m\u001b[0mstr\u001b[0m\u001b[1;33m)\u001b[0m\u001b[1;33m\u001b[0m\u001b[0m\n",
      "\u001b[1;31mNameError\u001b[0m: name 'y' is not defined"
     ]
    }
   ],
   "source": [
    "import pandas as pd\n",
    "import numpy as np\n",
    "N=5\n",
    "df0 = pd.DataFrame(range(N))\n",
    "np.sqrt(((df0 - df0.mean())**2).sum()/(N-1)) \n",
    "df0['str']=df0[[0]].applymap(str)\n",
    "df0\n",
    "x = y\n",
    "df0.std()\n",
    "df0[0].map(str).map(str)"
   ]
  },
  {
   "cell_type": "code",
   "execution_count": 2,
   "metadata": {
    "collapsed": false
   },
   "outputs": [
    {
     "data": {
      "text/html": [
       "<div>\n",
       "<table border=\"1\" class=\"dataframe\">\n",
       "  <thead>\n",
       "    <tr style=\"text-align: right;\">\n",
       "      <th></th>\n",
       "      <th>0</th>\n",
       "      <th>1</th>\n",
       "      <th>2</th>\n",
       "    </tr>\n",
       "  </thead>\n",
       "  <tbody>\n",
       "    <tr>\n",
       "      <th>3</th>\n",
       "      <td>1</td>\n",
       "      <td>2</td>\n",
       "      <td>x</td>\n",
       "    </tr>\n",
       "  </tbody>\n",
       "</table>\n",
       "</div>"
      ],
      "text/plain": [
       "   0  1  2\n",
       "3  1  2  x"
      ]
     },
     "execution_count": 2,
     "metadata": {},
     "output_type": "execute_result"
    }
   ],
   "source": [
    "import pandas as pd\n",
    "df0 = pd.DataFrame([[1,2,'x'],[3,4,'z'],[3,4,'z']]).set_index([[3,4,5]])\n",
    "g = pd.groupby(df0, by=0)\n",
    "g.get_group(1)"
   ]
  },
  {
   "cell_type": "code",
   "execution_count": null,
   "metadata": {
    "collapsed": false
   },
   "outputs": [],
   "source": [
    "%pdb on"
   ]
  },
  {
   "cell_type": "code",
   "execution_count": null,
   "metadata": {
    "collapsed": false
   },
   "outputs": [],
   "source": [
    "import os\n",
    "def join():\n",
    "    df0[['str']].applymap(lambda x: os.path.join('/work/',x))"
   ]
  },
  {
   "cell_type": "code",
   "execution_count": null,
   "metadata": {
    "collapsed": false
   },
   "outputs": [],
   "source": [
    "import pandas as pd\n",
    "l0 = [(1,2),(3,4)]\n",
    "l1 = [(4,5),(5,6)]\n",
    "df = pd.DataFrame(zip(l0))\n",
    "df.to_csv('tmp.csv', sep='\\t')\n",
    "df1 = pd.read_csv('tmp.csv', sep='\\t', index_col=0, converters={'0': eval})\n",
    "print df1['0'][0]\n",
    "print type(df1['0'][0])\n",
    "df1.describe(include='all')\n",
    "print pd.__version__"
   ]
  },
  {
   "cell_type": "code",
   "execution_count": null,
   "metadata": {
    "collapsed": false
   },
   "outputs": [],
   "source": [
    "import pandas as pd\n",
    "df = pd.DataFrame(columns=['x','y'])\n",
    "df.append(pd.DataFrame([[0,1]]))\n",
    "df"
   ]
  },
  {
   "cell_type": "markdown",
   "metadata": {},
   "source": [
    "##  文字列操作"
   ]
  },
  {
   "cell_type": "code",
   "execution_count": null,
   "metadata": {
    "collapsed": false
   },
   "outputs": [],
   "source": [
    "import re\n",
    "def get_default(S):\n",
    "    try:\n",
    "        default = re.search('\\(.*\\)', re.search('%.*%',S).group()).group().replace('(','').replace(')','')\n",
    "    except:\n",
    "        default = re.search('%.*%',S).group()\n",
    "    return default\n",
    "\n",
    "def get_tag(S):\n",
    "    try:\n",
    "        tag = re.sub('\\(.*\\)','',re.search('%.*%',S).group()).replace('%','')\n",
    "    except:\n",
    "        tag = None\n",
    "    return tag\n",
    "\n",
    "\n",
    "def replace_string(srcstr, replacelist):\n",
    "    dststr=''\n",
    "    for x in srcstr.splitlines():\n",
    "        tag = get_tag(x)\n",
    "        if tag is not None:\n",
    "            if tag in replacelist.keys():\n",
    "                dststr += re.sub('%.*%',replacelist[tag],x) + '\\n'\n",
    "            else:\n",
    "                dststr += re.sub('%.*%',get_default(x),x) + '\\n'\n",
    "        else:\n",
    "            dststr += x + '\\n'\n",
    "    return dststr.rstrip('\\n')\n",
    "\n",
    "def test():\n",
    "    replacelist={'NAME':'T.Sato'}\n",
    "    S='my name is %NAME(K.Ogawa)%\\n'\n",
    "    S+='I live in %PLACE(Yokohama)%\\n'\n",
    "    S+='%%%%'\n",
    "    replaced = replace_string(S, replacelist)\n",
    "    answer  ='my name is T.Sato\\n'\n",
    "    answer +='I live in Yokohama\\n'\n",
    "    answer +='%%%%'\n",
    "    print 'source:'\n",
    "    print S\n",
    "    print 'replaced:'\n",
    "    print replaced\n",
    "    print 'answer:'\n",
    "    print answer\n",
    "    print \n",
    "    if answer == replaced:\n",
    "        return 'TEST PASSED'\n",
    "    else:\n",
    "        return 'TEST FAILED'\n",
    "\n",
    "print test()"
   ]
  },
  {
   "cell_type": "markdown",
   "metadata": {},
   "source": [
    "## debugの使い方"
   ]
  },
  {
   "cell_type": "code",
   "execution_count": null,
   "metadata": {
    "collapsed": false
   },
   "outputs": [],
   "source": [
    "def f(a, b):\n",
    "    a += 1\n",
    "    b += 2\n",
    "    return a + b\n",
    "\n",
    "def g(a, b, c):\n",
    "    a = f(a,b)\n",
    "    b = f(b,c)\n",
    "    return a + b"
   ]
  },
  {
   "cell_type": "code",
   "execution_count": null,
   "metadata": {
    "collapsed": false
   },
   "outputs": [],
   "source": [
    "%debug(g(1,2,3))\n",
    "# s: proceed one step (enter funciton)\n",
    "# n: proceed one step (don't enter function)\n",
    "# a: print all local variable\n",
    "# c: continue upto breakpoint"
   ]
  },
  {
   "cell_type": "markdown",
   "metadata": {},
   "source": [
    "http://pages.physics.cornell.edu/~myers/teaching/ComputationalMethods/python/ipython.html\n",
    "\n",
    "http://qiita.com/ynakayama/items/c51c2b6d6a3818bdb63f"
   ]
  },
  {
   "cell_type": "code",
   "execution_count": null,
   "metadata": {
    "collapsed": false
   },
   "outputs": [],
   "source": [
    "import numpy as np\n",
    "np.random.seed(123)\n",
    "x = np.random.randint(0,10,(5,2))\n",
    "y = np.random.randint(0,10,(5,2))\n",
    "\n",
    "def f(x,y):\n",
    "    return x[0] + y[1], x[1] + y[0]\n",
    "print x\n",
    "print y\n",
    "z = np.asarray([x,y])\n",
    "zt = np.ndarray.transpose(z,(1,0,2))\n",
    "\n",
    "def defprint(x):\n",
    "    print ':', x\n",
    "    return x\n",
    "\n",
    "def defprint2(x,y):\n",
    "    print '1:', x\n",
    "    print '2:', y\n",
    "    return x + y\n",
    "\n",
    "np.asarray([f(x,y) for x,y in zt])\n",
    "#np.apply_over_axes(defprint2, zt, [0,1])"
   ]
  },
  {
   "cell_type": "code",
   "execution_count": null,
   "metadata": {
    "collapsed": true
   },
   "outputs": [],
   "source": [
    "np.fromiter?\n",
    "np.frompyfunc?"
   ]
  },
  {
   "cell_type": "markdown",
   "metadata": {},
   "source": [
    "## TODO\n",
    "#### doctest\n",
    "#### unittest"
   ]
  }
 ],
 "metadata": {
  "kernelspec": {
   "display_name": "Python 2",
   "language": "python",
   "name": "python2"
  },
  "language_info": {
   "codemirror_mode": {
    "name": "ipython",
    "version": 2
   },
   "file_extension": ".py",
   "mimetype": "text/x-python",
   "name": "python",
   "nbconvert_exporter": "python",
   "pygments_lexer": "ipython2",
   "version": "2.7.6"
  }
 },
 "nbformat": 4,
 "nbformat_minor": 0
}
