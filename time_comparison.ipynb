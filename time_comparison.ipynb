{
 "cells": [
  {
   "cell_type": "markdown",
   "metadata": {},
   "source": [
    "# 実装方法の違いによる　実行時間の差を見てみよう\n",
    "下の式の計算をする\n",
    "$$ \\sum_{i=1}^{100000} \\frac{1}{i} = 12.\\cdots$$ "
   ]
  },
  {
   "cell_type": "code",
   "execution_count": 4,
   "metadata": {
    "collapsed": false,
    "deletable": true,
    "editable": true
   },
   "outputs": [],
   "source": [
    "import numpy as np\n",
    "\n",
    "def f1(n=100000):\n",
    "    sum_ = 0\n",
    "    for x in range(n):\n",
    "        sum_ += 1.0/(x + 1.0)\n",
    "    return sum_\n",
    "\n",
    "def f2(n=100000):\n",
    "    return (1.0/(np.arange(n) + 1.0)).sum()\n",
    "\n",
    "def f3(n=100000):\n",
    "    a = np.arange(n)\n",
    "    sum_ = 0\n",
    "    for i in range(n):\n",
    "        sum_ += 1.0/(a[i] + 1.0)\n",
    "    return sum_"
   ]
  },
  {
   "cell_type": "code",
   "execution_count": 6,
   "metadata": {
    "collapsed": false,
    "deletable": true,
    "editable": true
   },
   "outputs": [
    {
     "name": "stdout",
     "output_type": "stream",
     "text": [
      "100 loops, best of 3: 14.8 ms per loop\n",
      "12.0901461299\n"
     ]
    }
   ],
   "source": [
    "%timeit f1()\n",
    "print f1()"
   ]
  },
  {
   "cell_type": "code",
   "execution_count": 5,
   "metadata": {
    "collapsed": false,
    "deletable": true,
    "editable": true
   },
   "outputs": [
    {
     "name": "stdout",
     "output_type": "stream",
     "text": [
      "1000 loops, best of 3: 1.19 ms per loop\n",
      "12.0901461299\n"
     ]
    }
   ],
   "source": [
    "# 速い\n",
    "%timeit f2()\n",
    "print f2()"
   ]
  },
  {
   "cell_type": "code",
   "execution_count": 7,
   "metadata": {
    "collapsed": false,
    "deletable": true,
    "editable": true
   },
   "outputs": [
    {
     "name": "stdout",
     "output_type": "stream",
     "text": [
      "1 loop, best of 3: 275 ms per loop\n",
      "12.0901461299\n"
     ]
    }
   ],
   "source": [
    "# とっても遅い\n",
    "%timeit f3()\n",
    "print f3()"
   ]
  },
  {
   "cell_type": "markdown",
   "metadata": {},
   "source": [
    "# 結論\n",
    "- ## numpy array は for 文 + range よりずっと速い\n",
    "- ## でも numpy array の成分にひとつずつアクセスするのはすごく遅い\n",
    "\n",
    "ちなみにアレイやリストを作成するところはそんなに時間はかかってない。"
   ]
  },
  {
   "cell_type": "code",
   "execution_count": 6,
   "metadata": {
    "collapsed": false,
    "deletable": true,
    "editable": true
   },
   "outputs": [
    {
     "name": "stdout",
     "output_type": "stream",
     "text": [
      "1000 loops, best of 3: 1.62 ms per loop\n"
     ]
    }
   ],
   "source": [
    "%timeit x = range(100000)"
   ]
  },
  {
   "cell_type": "code",
   "execution_count": 7,
   "metadata": {
    "collapsed": false,
    "deletable": true,
    "editable": true
   },
   "outputs": [
    {
     "name": "stdout",
     "output_type": "stream",
     "text": [
      "The slowest run took 4.48 times longer than the fastest. This could mean that an intermediate result is being cached.\n",
      "10000 loops, best of 3: 109 µs per loop\n"
     ]
    }
   ],
   "source": [
    "%timeit a  = np.arange(100000)"
   ]
  }
 ],
 "metadata": {
  "kernelspec": {
   "display_name": "Python 2",
   "language": "python",
   "name": "python2"
  },
  "language_info": {
   "codemirror_mode": {
    "name": "ipython",
    "version": 2
   },
   "file_extension": ".py",
   "mimetype": "text/x-python",
   "name": "python",
   "nbconvert_exporter": "python",
   "pygments_lexer": "ipython2",
   "version": "2.7.12"
  }
 },
 "nbformat": 4,
 "nbformat_minor": 2
}
