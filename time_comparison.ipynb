{
 "cells": [
  {
   "cell_type": "markdown",
   "metadata": {},
   "source": [
    "# 実装方法の違いによる　実行時間の差を見てみよう\n",
    "下の式の計算をする\n",
    "$$ \\sum_{i=1}^{100000} \\frac{1}{i} = 12.\\cdots$$ "
   ]
  },
  {
   "cell_type": "code",
   "execution_count": 35,
   "metadata": {
    "collapsed": false,
    "deletable": true,
    "editable": true
   },
   "outputs": [],
   "source": [
    "import numpy as np\n",
    "\n",
    "def f1(n=100000):\n",
    "    sum_ = 0\n",
    "    for x in range(n):\n",
    "        sum_ += 1.0/(x + 1.0)\n",
    "    return sum_\n",
    "\n",
    "def f2(n=100000):\n",
    "    return (1.0/(np.arange(n) + 1.0)).sum()\n",
    "\n",
    "def f3(n=100000):\n",
    "    a = np.arange(n)\n",
    "    sum_ = 0\n",
    "    for i in range(n):\n",
    "        sum_ += 1.0/(a[i] + 1.0)\n",
    "    return sum_\n",
    "\n",
    "def f4(n=100000):\n",
    "    a = np.arange(n)\n",
    "    sum_ = 0\n",
    "    for x in a:\n",
    "        sum_ += 1.0/(x + 1.0)\n",
    "    return sum_\n",
    "\n",
    "def f5(n=100000): \n",
    "    a = range(n)\n",
    "    sum_ = 0\n",
    "    for i in range(n):\n",
    "        sum_ += 1.0/(a[i] + 1.0)\n",
    "    return sum_\n"
   ]
  },
  {
   "cell_type": "code",
   "execution_count": 6,
   "metadata": {
    "collapsed": false,
    "deletable": true,
    "editable": true
   },
   "outputs": [
    {
     "name": "stdout",
     "output_type": "stream",
     "text": [
      "100 loops, best of 3: 14.8 ms per loop\n",
      "12.0901461299\n"
     ]
    }
   ],
   "source": [
    "%timeit f1()\n",
    "print f1()"
   ]
  },
  {
   "cell_type": "code",
   "execution_count": 5,
   "metadata": {
    "collapsed": false,
    "deletable": true,
    "editable": true
   },
   "outputs": [
    {
     "name": "stdout",
     "output_type": "stream",
     "text": [
      "1000 loops, best of 3: 1.19 ms per loop\n",
      "12.0901461299\n"
     ]
    }
   ],
   "source": [
    "# 速い\n",
    "%timeit f2()\n",
    "print f2()"
   ]
  },
  {
   "cell_type": "code",
   "execution_count": 7,
   "metadata": {
    "collapsed": false,
    "deletable": true,
    "editable": true
   },
   "outputs": [
    {
     "name": "stdout",
     "output_type": "stream",
     "text": [
      "1 loop, best of 3: 275 ms per loop\n",
      "12.0901461299\n"
     ]
    }
   ],
   "source": [
    "# とっても遅い\n",
    "%timeit f3()\n",
    "print f3()"
   ]
  },
  {
   "cell_type": "code",
   "execution_count": 31,
   "metadata": {
    "collapsed": false
   },
   "outputs": [
    {
     "name": "stdout",
     "output_type": "stream",
     "text": [
      "1 loop, best of 3: 271 ms per loop\n",
      "12.0901461299\n"
     ]
    }
   ],
   "source": [
    "%timeit f4()\n",
    "print f4()"
   ]
  },
  {
   "cell_type": "code",
   "execution_count": 36,
   "metadata": {
    "collapsed": false
   },
   "outputs": [
    {
     "name": "stdout",
     "output_type": "stream",
     "text": [
      "10 loops, best of 3: 18.6 ms per loop\n",
      "12.0901461299\n"
     ]
    }
   ],
   "source": [
    "%timeit f5()\n",
    "print f5()"
   ]
  },
  {
   "cell_type": "markdown",
   "metadata": {},
   "source": [
    "# 結論\n",
    "- ## numpy array は for 文 + range よりずっと速い\n",
    "- ## でも numpy array の成分にひとつずつアクセスするのはすごく遅い\n",
    "\n",
    "ちなみにアレイやリストを作成するところはそんなに時間はかかってない。"
   ]
  },
  {
   "cell_type": "code",
   "execution_count": 15,
   "metadata": {
    "collapsed": false,
    "deletable": true,
    "editable": true
   },
   "outputs": [
    {
     "name": "stdout",
     "output_type": "stream",
     "text": [
      "1000 loops, best of 3: 1.65 ms per loop\n"
     ]
    }
   ],
   "source": [
    "%timeit x = range(100000)\n",
    "x = range(100000)"
   ]
  },
  {
   "cell_type": "code",
   "execution_count": 13,
   "metadata": {
    "collapsed": false,
    "deletable": true,
    "editable": true
   },
   "outputs": [
    {
     "name": "stdout",
     "output_type": "stream",
     "text": [
      "The slowest run took 6.75 times longer than the fastest. This could mean that an intermediate result is being cached.\n",
      "10000 loops, best of 3: 109 µs per loop\n"
     ]
    }
   ],
   "source": [
    "%timeit a  = np.arange(100000)\n",
    "a = np.arange(100000)"
   ]
  },
  {
   "cell_type": "markdown",
   "metadata": {},
   "source": [
    "# 成分の足し算"
   ]
  },
  {
   "cell_type": "code",
   "execution_count": 24,
   "metadata": {
    "collapsed": false
   },
   "outputs": [
    {
     "name": "stdout",
     "output_type": "stream",
     "text": [
      "The slowest run took 23.50 times longer than the fastest. This could mean that an intermediate result is being cached.\n",
      "10000000 loops, best of 3: 172 ns per loop\n"
     ]
    }
   ],
   "source": [
    "%timeit y = x[10000] + x[100] + x[10] + x[0]"
   ]
  },
  {
   "cell_type": "code",
   "execution_count": 41,
   "metadata": {
    "collapsed": false
   },
   "outputs": [
    {
     "name": "stdout",
     "output_type": "stream",
     "text": [
      "The slowest run took 25.87 times longer than the fastest. This could mean that an intermediate result is being cached.\n",
      "1000000 loops, best of 3: 618 ns per loop\n"
     ]
    }
   ],
   "source": [
    "# numpy arrayの方がやっぱり遅い\n",
    "%timeit b = a[10000] + a[100] + a[10] + a[0]"
   ]
  },
  {
   "cell_type": "markdown",
   "metadata": {},
   "source": [
    "# a[[...]]sum()　は成分が少ないときはあんまり速くない。\n",
    "成分数の比だけで言えば 100000 / 4 = 25000 "
   ]
  },
  {
   "cell_type": "code",
   "execution_count": 38,
   "metadata": {
    "collapsed": false
   },
   "outputs": [
    {
     "name": "stdout",
     "output_type": "stream",
     "text": [
      "The slowest run took 10.97 times longer than the fastest. This could mean that an intermediate result is being cached.\n",
      "100000 loops, best of 3: 7.37 µs per loop\n",
      "10000 loops, best of 3: 75 µs per loop\n"
     ]
    }
   ],
   "source": [
    "# あれ！？上の式より遅いぞ。 ns = 1000^(-3) s , µs = 1000^(-2) s \n",
    "%timeit a[[0, 10, 100, 10000]].sum()\n",
    "\n",
    "%timeit a.sum()"
   ]
  },
  {
   "cell_type": "markdown",
   "metadata": {},
   "source": [
    "## もっと調べたい事\n",
    "- ## 2次元アレイと２重リストの場合はどうなるかなあ"
   ]
  }
 ],
 "metadata": {
  "kernelspec": {
   "display_name": "Python 2",
   "language": "python",
   "name": "python2"
  },
  "language_info": {
   "codemirror_mode": {
    "name": "ipython",
    "version": 2
   },
   "file_extension": ".py",
   "mimetype": "text/x-python",
   "name": "python",
   "nbconvert_exporter": "python",
   "pygments_lexer": "ipython2",
   "version": "2.7.12"
  }
 },
 "nbformat": 4,
 "nbformat_minor": 2
}
